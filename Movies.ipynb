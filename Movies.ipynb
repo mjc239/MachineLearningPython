{
 "cells": [
  {
   "cell_type": "code",
   "execution_count": 1,
   "metadata": {
    "collapsed": true
   },
   "outputs": [],
   "source": [
    "import numpy as np\n",
    "import matplotlib.pyplot as plt\n",
    "import pandas as pd"
   ]
  },
  {
   "cell_type": "markdown",
   "metadata": {},
   "source": [
    "### This is a data set of movies from TMDB, containing information on budget, genres, production, release information, revenue, user rating, and more. I will do some analysis to determine how these quantities relate to each other."
   ]
  },
  {
   "cell_type": "markdown",
   "metadata": {},
   "source": [
    "Import the movies data"
   ]
  },
  {
   "cell_type": "code",
   "execution_count": 13,
   "metadata": {
    "collapsed": true
   },
   "outputs": [],
   "source": [
    "movies_df = pd.read_csv('/home/michael/Documents/MachineLearning/kaggle/movies/tmdb_5000_movies.csv')"
   ]
  },
  {
   "cell_type": "code",
   "execution_count": 3,
   "metadata": {
    "collapsed": false
   },
   "outputs": [
    {
     "data": {
      "text/plain": [
       "(4803, 20)"
      ]
     },
     "execution_count": 3,
     "metadata": {},
     "output_type": "execute_result"
    }
   ],
   "source": [
    "np.shape(movies_df)"
   ]
  },
  {
   "cell_type": "markdown",
   "metadata": {},
   "source": [
    "4803 movies, each with 20 features.\n",
    "Let's have a look at an example:"
   ]
  },
  {
   "cell_type": "code",
   "execution_count": 4,
   "metadata": {
    "collapsed": false
   },
   "outputs": [
    {
     "data": {
      "text/plain": [
       "budget                                                          237000000\n",
       "genres                  [{\"id\": 28, \"name\": \"Action\"}, {\"id\": 12, \"nam...\n",
       "homepage                                      http://www.avatarmovie.com/\n",
       "id                                                                  19995\n",
       "keywords                [{\"id\": 1463, \"name\": \"culture clash\"}, {\"id\":...\n",
       "original_language                                                      en\n",
       "original_title                                                     Avatar\n",
       "overview                In the 22nd century, a paraplegic Marine is di...\n",
       "popularity                                                        150.438\n",
       "production_companies    [{\"name\": \"Ingenious Film Partners\", \"id\": 289...\n",
       "production_countries    [{\"iso_3166_1\": \"US\", \"name\": \"United States o...\n",
       "release_date                                                   2009-12-10\n",
       "revenue                                                        2787965087\n",
       "runtime                                                               162\n",
       "spoken_languages        [{\"iso_639_1\": \"en\", \"name\": \"English\"}, {\"iso...\n",
       "status                                                           Released\n",
       "tagline                                       Enter the World of Pandora.\n",
       "title                                                              Avatar\n",
       "vote_average                                                          7.2\n",
       "vote_count                                                          11800\n",
       "Name: 0, dtype: object"
      ]
     },
     "execution_count": 4,
     "metadata": {},
     "output_type": "execute_result"
    }
   ],
   "source": [
    "movies_df.ix[0]"
   ]
  },
  {
   "cell_type": "markdown",
   "metadata": {},
   "source": [
    "#### Investigate relationship between budget and average vote.\n",
    "Define budget_vote to be the matrix of just budget and average vote for each movie"
   ]
  },
  {
   "cell_type": "code",
   "execution_count": 5,
   "metadata": {
    "collapsed": false
   },
   "outputs": [],
   "source": [
    "budget_vote = movies_df.values[:,[0,18]]\n",
    "budget_vote = budget_vote.astype(float)"
   ]
  },
  {
   "cell_type": "code",
   "execution_count": 6,
   "metadata": {
    "collapsed": false
   },
   "outputs": [
    {
     "data": {
      "image/png": "[encoded data removed]",
      "text/plain": [
       "<matplotlib.figure.Figure at 0x7f92b1b80f10>"
      ]
     },
     "metadata": {},
     "output_type": "display_data"
    }
   ],
   "source": [
    "plt.scatter(budget_vote[:,0],budget_vote[:,1])\n",
    "plt.xlabel('Budget ($)')\n",
    "plt.ylabel('Average rating')\n",
    "plt.show()"
   ]
  },
  {
   "cell_type": "markdown",
   "metadata": {},
   "source": [
    "Looks a bit messy, but with a slight increase in rating as more money is spent. We can use linear regression to find the overall trend:"
   ]
  },
  {
   "cell_type": "code",
   "execution_count": 7,
   "metadata": {
    "collapsed": false
   },
   "outputs": [],
   "source": [
    "import linear_regression\n",
    "import PCA\n",
    "budget_vote, means, stds = PCA.data_normalisation(budget_vote, invertible=True)\n",
    "lin = linear_regression.linear_regressor(budget_vote[:,0],budget_vote[:,1],0.0001,100000)"
   ]
  },
  {
   "cell_type": "markdown",
   "metadata": {},
   "source": [
    "Note that the values of both features have been normalised for the gradient descent process; the values of the means/standard deviation have been stored."
   ]
  },
  {
   "cell_type": "code",
   "execution_count": 8,
   "metadata": {
    "collapsed": false
   },
   "outputs": [
    {
     "data": {
      "image/png": "[encoded data removed]",
      "text/plain": [
       "<matplotlib.figure.Figure at 0x7f92ab8dea50>"
      ]
     },
     "metadata": {},
     "output_type": "display_data"
    }
   ],
   "source": [
    "theta = lin.gradient_descent(np.array([0.,0.]),plot='on')"
   ]
  },
  {
   "cell_type": "code",
   "execution_count": 9,
   "metadata": {
    "collapsed": false
   },
   "outputs": [
    {
     "data": {
      "text/plain": [
       "array([ -4.32454073e-16,   9.31457453e-02])"
      ]
     },
     "execution_count": 9,
     "metadata": {},
     "output_type": "execute_result"
    }
   ],
   "source": [
    "theta"
   ]
  },
  {
   "cell_type": "markdown",
   "metadata": {},
   "source": [
    "We must now un-normalise to find the true parameters."
   ]
  },
  {
   "cell_type": "code",
   "execution_count": 10,
   "metadata": {
    "collapsed": false
   },
   "outputs": [
    {
     "data": {
      "text/plain": [
       "array([  6.01280663e+00,   2.73247805e-09])"
      ]
     },
     "execution_count": 10,
     "metadata": {},
     "output_type": "execute_result"
    }
   ],
   "source": [
    "true_theta = np.array([means[1] + stds[1]*theta[0] - means[0]*stds[1]*theta[1]/stds[0],theta[1]*stds[1]/stds[0]])\n",
    "true_theta"
   ]
  },
  {
   "cell_type": "markdown",
   "metadata": {},
   "source": [
    "So average_vote estimate = 6 + (2.7 * 10^-9) * budget. In other words, a movie with zero budget is expected to get 6/10, and an increase in the budget of 100,000,000 dollars is expected to give a rating boost of 0.27. So spending more money isn't a sure way to increase the rating."
   ]
  },
  {
   "cell_type": "code",
   "execution_count": 12,
   "metadata": {
    "collapsed": false
   },
   "outputs": [
    {
     "data": {
      "image/png": "[encoded data removed]",
      "text/plain": [
       "<matplotlib.figure.Figure at 0x7f92ab8de990>"
      ]
     },
     "metadata": {},
     "output_type": "display_data"
    }
   ],
   "source": [
    "mini = np.amin(budget_vote[:,0])\n",
    "maxi = np.amax(budget_vote[:,0])\n",
    "plt.scatter(budget_vote[:,0],budget_vote[:,1])\n",
    "plt.xlabel('Budget ($)')\n",
    "plt.ylabel('Average rating')\n",
    "plt.plot(np.arange(mini, maxi, 0.1), (true_theta[0] + 1000000*true_theta[1]*np.arange(mini, maxi, 0.1)),color='r')\n",
    "plt.show()"
   ]
  },
  {
   "cell_type": "code",
   "execution_count": 23,
   "metadata": {
    "collapsed": false
   },
   "outputs": [
    {
     "data": {
      "text/plain": [
       "380000000.0"
      ]
     },
     "execution_count": 23,
     "metadata": {},
     "output_type": "execute_result"
    }
   ],
   "source": [
    "np.amax(budget_vote[:,0])"
   ]
  },
  {
   "cell_type": "markdown",
   "metadata": {},
   "source": [
    "To add here: Maybe splitting the films into genres may show differences? For example, sci-fi movies may improve as more money can be spent on effects, but others genres mat depend less on this"
   ]
  },
  {
   "cell_type": "markdown",
   "metadata": {},
   "source": [
    "Another feature in the data set is 'popularity'; TMDB loosely defines this, saying it depends on user rating, page views, favourites and list additions. It also more heavily favours recent films. Let's have a look at the effect of a film's budget on popularity."
   ]
  },
  {
   "cell_type": "code",
   "execution_count": 55,
   "metadata": {
    "collapsed": false
   },
   "outputs": [],
   "source": [
    "movies_df = movies_df.dropna(subset=['release_date','revenue','runtime','vote_count'])\n",
    "vote_pop = movies_df.values[:,[11,8]]"
   ]
  },
  {
   "cell_type": "code",
   "execution_count": 56,
   "metadata": {
    "collapsed": false
   },
   "outputs": [],
   "source": [
    "import time\n",
    "import datetime\n",
    "for i in np.arange(np.size(vote_pop, axis=0)):\n",
    "    vote_pop[i,0] = time.mktime(datetime.datetime.strptime(vote_pop[i,0], \"%Y-%m-%d\").timetuple())"
   ]
  },
  {
   "cell_type": "code",
   "execution_count": 77,
   "metadata": {
    "collapsed": false
   },
   "outputs": [
    {
     "data": {
      "image/png": "[encoded data removed]",
      "text/plain": [
       "<matplotlib.figure.Figure at 0x7f92a3d9ff50>"
      ]
     },
     "metadata": {},
     "output_type": "display_data"
    }
   ],
   "source": [
    "plt.scatter(vote_pop[:,0],vote_pop[:,1])\n",
    "plt.xlabel('User rating')\n",
    "plt.ylabel('Popularity')\n",
    "plt.show()"
   ]
  },
  {
   "cell_type": "code",
   "execution_count": 73,
   "metadata": {
    "collapsed": false
   },
   "outputs": [
    {
     "data": {
      "text/plain": [
       "array([ 5.01354823,  4.93506811,  4.67634403, ...,  0.36774663,\n",
       "       -0.15430803,  0.65745938])"
      ]
     },
     "execution_count": 73,
     "metadata": {},
     "output_type": "execute_result"
    }
   ],
   "source": [
    "np.log(vote_pop[:,1].astype(float))"
   ]
  },
  {
   "cell_type": "code",
   "execution_count": null,
   "metadata": {
    "collapsed": true
   },
   "outputs": [],
   "source": []
  },
  {
   "cell_type": "code",
   "execution_count": null,
   "metadata": {
    "collapsed": true
   },
   "outputs": [],
   "source": []
  },
  {
   "cell_type": "code",
   "execution_count": 19,
   "metadata": {
    "collapsed": true
   },
   "outputs": [],
   "source": [
    "budget_pop = movies_df.values[:,[0,8]].astype(float)\n",
    "budget_pop = PCA.data_normalisation(budget_pop)"
   ]
  },
  {
   "cell_type": "code",
   "execution_count": 20,
   "metadata": {
    "collapsed": false
   },
   "outputs": [
    {
     "data": {
      "image/png": "[encoded data removed]",
      "text/plain": [
       "<matplotlib.figure.Figure at 0x7f92a3f4ca90>"
      ]
     },
     "metadata": {},
     "output_type": "display_data"
    }
   ],
   "source": [
    "plt.scatter(budget_pop[:,0],budget_pop[:,1])\n",
    "plt.show()"
   ]
  },
  {
   "cell_type": "code",
   "execution_count": 21,
   "metadata": {
    "collapsed": false
   },
   "outputs": [],
   "source": [
    "linpop = linear_regression.linear_regressor(budget_pop[:,0],budget_pop[:,1],0.0001,100000)"
   ]
  },
  {
   "cell_type": "code",
   "execution_count": 22,
   "metadata": {
    "collapsed": false
   },
   "outputs": [
    {
     "data": {
      "image/png": "[encoded data removed]",
      "text/plain": [
       "<matplotlib.figure.Figure at 0x7f92a3e379d0>"
      ]
     },
     "metadata": {},
     "output_type": "display_data"
    }
   ],
   "source": [
    "thetapop = linpop.gradient_descent(np.array([0.,0.]),plot='on')"
   ]
  },
  {
   "cell_type": "code",
   "execution_count": 15,
   "metadata": {
    "collapsed": false
   },
   "outputs": [
    {
     "data": {
      "text/plain": [
       "array([  2.90434343e-17,   5.05413999e-01])"
      ]
     },
     "execution_count": 15,
     "metadata": {},
     "output_type": "execute_result"
    }
   ],
   "source": [
    "thetapop"
   ]
  },
  {
   "cell_type": "markdown",
   "metadata": {},
   "source": [
    "#### Popularity also increases with budget."
   ]
  },
  {
   "cell_type": "markdown",
   "metadata": {},
   "source": [
    "#### Let's isolate some figures which may be predictive of rating/popularity."
   ]
  },
  {
   "cell_type": "code",
   "execution_count": 16,
   "metadata": {
    "collapsed": false
   },
   "outputs": [
    {
     "data": {
      "text/plain": [
       "budget                                                          237000000\n",
       "genres                  [{\"id\": 28, \"name\": \"Action\"}, {\"id\": 12, \"nam...\n",
       "homepage                                      http://www.avatarmovie.com/\n",
       "id                                                                  19995\n",
       "keywords                [{\"id\": 1463, \"name\": \"culture clash\"}, {\"id\":...\n",
       "original_language                                                      en\n",
       "original_title                                                     Avatar\n",
       "overview                In the 22nd century, a paraplegic Marine is di...\n",
       "popularity                                                        150.438\n",
       "production_companies    [{\"name\": \"Ingenious Film Partners\", \"id\": 289...\n",
       "production_countries    [{\"iso_3166_1\": \"US\", \"name\": \"United States o...\n",
       "release_date                                                   2009-12-10\n",
       "revenue                                                        2787965087\n",
       "runtime                                                               162\n",
       "spoken_languages        [{\"iso_639_1\": \"en\", \"name\": \"English\"}, {\"iso...\n",
       "status                                                           Released\n",
       "tagline                                       Enter the World of Pandora.\n",
       "title                                                              Avatar\n",
       "vote_average                                                          7.2\n",
       "vote_count                                                          11800\n",
       "Name: 0, dtype: object"
      ]
     },
     "execution_count": 16,
     "metadata": {},
     "output_type": "execute_result"
    }
   ],
   "source": [
    "movies_df.ix[0]"
   ]
  },
  {
   "cell_type": "code",
   "execution_count": 31,
   "metadata": {
    "collapsed": false
   },
   "outputs": [],
   "source": [
    "movies_df = movies_df.dropna(subset=['release_date','revenue','runtime','vote_count'])"
   ]
  },
  {
   "cell_type": "code",
   "execution_count": 192,
   "metadata": {
    "collapsed": false
   },
   "outputs": [],
   "source": [
    "film_figures_rating = movies_df.values[:,[0,11,12,13,19,18]]\n",
    "np.random.shuffle(film_figures_rating)\n",
    "film_figures = film_figures_rating[:,:-1]\n",
    "rating = film_figures_rating[:,-1]"
   ]
  },
  {
   "cell_type": "code",
   "execution_count": 193,
   "metadata": {
    "collapsed": false
   },
   "outputs": [],
   "source": [
    "import time\n",
    "import datetime\n",
    "for i in np.arange(np.size(film_figures, axis=0)):\n",
    "    film_figures[i,1] = time.mktime(datetime.datetime.strptime(film_figures[i,1], \"%Y-%m-%d\").timetuple())"
   ]
  },
  {
   "cell_type": "code",
   "execution_count": 194,
   "metadata": {
    "collapsed": false
   },
   "outputs": [],
   "source": [
    "film_figures = film_figures.astype(float)"
   ]
  },
  {
   "cell_type": "code",
   "execution_count": 196,
   "metadata": {
    "collapsed": false
   },
   "outputs": [],
   "source": [
    "rating = rating.astype(float)"
   ]
  },
  {
   "cell_type": "code",
   "execution_count": 197,
   "metadata": {
    "collapsed": true
   },
   "outputs": [],
   "source": [
    "film_figures = PCA.data_normalisation(film_figures)"
   ]
  },
  {
   "cell_type": "code",
   "execution_count": 198,
   "metadata": {
    "collapsed": true
   },
   "outputs": [],
   "source": [
    "ratio = 0.7\n",
    "film_figures_train = film_figures[:int(ratio*len(film_figures)),:]\n",
    "film_figures_test = film_figures[int(ratio*len(film_figures)):,:]\n",
    "rating_train = rating[:int(ratio*len(film_figures))]\n",
    "rating_test = rating[int(ratio*len(film_figures)):]"
   ]
  },
  {
   "cell_type": "code",
   "execution_count": null,
   "metadata": {
    "collapsed": false
   },
   "outputs": [],
   "source": []
  },
  {
   "cell_type": "code",
   "execution_count": 253,
   "metadata": {
    "collapsed": false
   },
   "outputs": [],
   "source": [
    "rating_model = linear_regression.linear_regressor(film_figures_train, rating_train, 0.0001, 500)"
   ]
  },
  {
   "cell_type": "code",
   "execution_count": 254,
   "metadata": {
    "collapsed": false
   },
   "outputs": [
    {
     "data": {
      "text/plain": [
       "1.0794579155793995"
      ]
     },
     "execution_count": 254,
     "metadata": {},
     "output_type": "execute_result"
    }
   ],
   "source": [
    "theta = rating_model.gradient_descent(np.array([0.,0.,0.,0.,0.,0.]))\n",
    "rating_model.cost_function(theta)"
   ]
  },
  {
   "cell_type": "code",
   "execution_count": 201,
   "metadata": {
    "collapsed": false
   },
   "outputs": [],
   "source": [
    "rating_predict = linear_regression.linear_regressor(film_figures_test, rating_test, 0.0001, 10000)"
   ]
  },
  {
   "cell_type": "code",
   "execution_count": 202,
   "metadata": {
    "collapsed": false
   },
   "outputs": [],
   "source": [
    "error = np.sqrt(rating_predict.cost_function(theta))"
   ]
  },
  {
   "cell_type": "code",
   "execution_count": 203,
   "metadata": {
    "collapsed": false
   },
   "outputs": [
    {
     "data": {
      "text/plain": [
       "1.0676885401152216"
      ]
     },
     "execution_count": 203,
     "metadata": {},
     "output_type": "execute_result"
    }
   ],
   "source": [
    "error"
   ]
  },
  {
   "cell_type": "markdown",
   "metadata": {},
   "source": [
    "#### Average error in rating prediction is 1.07"
   ]
  },
  {
   "cell_type": "code",
   "execution_count": 272,
   "metadata": {
    "collapsed": false
   },
   "outputs": [],
   "source": [
    "film_figures_rating = movies_df.values[:,[0,11,12,13,19,18]]\n",
    "import time\n",
    "import datetime\n",
    "for i in np.arange(np.size(film_figures, axis=0)):\n",
    "    film_figures_rating[i,1] = time.mktime(datetime.datetime.strptime(film_figures_rating[i,1], \"%Y-%m-%d\").timetuple())\n",
    "film_figures_rating = film_figures_rating.astype(float)\n",
    "training_error_total = np.zeros(99)\n",
    "test_error_total = np.zeros(99)\n",
    "for j in np.arange(100):\n",
    "    training_error = np.array([])\n",
    "    test_error = np.array([])\n",
    "    for i in np.arange(0.01,1.0,0.01):\n",
    "        np.random.shuffle(film_figures_rating)\n",
    "        film_figures = film_figures_rating[:,:-1]\n",
    "        rating = film_figures_rating[:,-1]\n",
    "        film_figures = PCA.data_normalisation(film_figures)\n",
    "        film_figures_train = film_figures[:int(i*len(film_figures)),:]\n",
    "        film_figures_test = film_figures[int(i*len(film_figures)):,:]\n",
    "        rating_train = rating[:int(i*len(film_figures))]\n",
    "        rating_test = rating[int(i*len(film_figures)):]\n",
    "        rating_model = linear_regression.linear_regressor(film_figures_train, rating_train, 0.0001, 500)\n",
    "        theta = rating_model.gradient_descent(np.array([0.,0.,0.,0.,0.,0.]))\n",
    "        training_error = np.append(training_error, rating_model.cost_function(theta))\n",
    "        rating_predict = linear_regression.linear_regressor(film_figures_test, rating_test, 0.0001, 500)\n",
    "        test_error = np.append(test_error, np.sqrt(rating_predict.cost_function(theta)))\n",
    "    training_error_total = training_error_total + training_error\n",
    "    test_error_total = test_error_total + test_error\n",
    "training_error_total /= 100\n",
    "test_error_total /= 100"
   ]
  },
  {
   "cell_type": "code",
   "execution_count": 275,
   "metadata": {
    "collapsed": false
   },
   "outputs": [
    {
     "data": {
      "image/png": "[encoded data removed]",
      "text/plain": [
       "<matplotlib.figure.Figure at 0x7f5a68aaa350>"
      ]
     },
     "metadata": {},
     "output_type": "display_data"
    }
   ],
   "source": [
    "plt.plot(np.arange(0.1,1.0,0.01), training_error_total[9:], color='r')\n",
    "plt.plot(np.arange(0.1,1.0,0.01), test_error_total[9:], color='b')\n",
    "plt.show()"
   ]
  },
  {
   "cell_type": "code",
   "execution_count": null,
   "metadata": {
    "collapsed": true
   },
   "outputs": [],
   "source": []
  }
 ],
 "metadata": {
  "kernelspec": {
   "display_name": "Python 2",
   "language": "python",
   "name": "python2"
  },
  "language_info": {
   "codemirror_mode": {
    "name": "ipython",
    "version": 2
   },
   "file_extension": ".py",
   "mimetype": "text/x-python",
   "name": "python",
   "nbconvert_exporter": "python",
   "pygments_lexer": "ipython2",
   "version": "2.7.13"
  }
 },
 "nbformat": 4,
 "nbformat_minor": 2
}
